{
 "cells": [
  {
   "cell_type": "markdown",
   "id": "2ed77d14-f760-409c-b933-fb8cf900362d",
   "metadata": {},
   "source": [
    "# Исследование опроса клиентов телекомунникацонной компании\n",
    "\n",
    "Заказчик этого исследования — большая телекоммуникационная компания, которая оказывает услуги на территории всего СНГ. Перед компанией стоит задача определить текущий уровень потребительской лояльности, или NPS (от англ. Net Promoter Score), среди клиентов из России.\n",
    "\n",
    "Чтобы определить уровень лояльности, клиентам задавали классический вопрос: «Оцените по шкале от 1 до 10 вероятность того, что вы порекомендуете компанию друзьям и знакомым».\n",
    "\n",
    "Компания провела опрос и попросила вас подготовить дашборд с его итогами. Большую базу данных для такой задачи разворачивать не стали и выгрузили данные в SQLite. \n",
    "\n",
    "Чтобы оценить результаты опроса, оценки обычно делят на три группы:\n",
    "\n",
    "* 9-10 баллов — «cторонники» (англ. promoters);\n",
    "* 7-8 баллов — «нейтралы» (англ. passives);\n",
    "* 0-6 баллов — «критики» (англ. detractors).\n",
    "\n",
    "Итоговое значение NPS рассчитывается по формуле: % «сторонников» - % «критиков».\n",
    "\n",
    "Таким образом, значение этого показателя варьируется от -100% (когда все клиенты «критики») до 100% (когда все клиенты лояльны к сервису). Но это крайние случаи, которые редко встретишь на практике. \n",
    "\n",
    "Интерпретируя результаты NPS-опросов, следует также помнить, что само значение мало о чём говорит. Однако исследования показывают, что клиенты-сторонники полезны любому бизнесу. Они чаще других повторно совершают покупки, активнее тестируют обновления и приводят в сервис своих друзей и знакомых. Поэтому NPS остаётся одной из важнейших метрик бизнеса. "
   ]
  },
  {
   "cell_type": "code",
   "execution_count": 68,
   "id": "fc7efa54",
   "metadata": {},
   "outputs": [],
   "source": [
    "import os\n",
    "import pandas as pd\n",
    "import numpy as np\n",
    "\n",
    "from sqlalchemy import create_engine"
   ]
  },
  {
   "cell_type": "code",
   "execution_count": 69,
   "id": "0017f8e7",
   "metadata": {},
   "outputs": [],
   "source": [
    "path_to_db_local = 'telecomm_csi.db'\n",
    "path_to_db_platform = '/datasets/telecomm_csi.db'\n",
    "path_to_db = None\n",
    "\n",
    "if os.path.exists(path_to_db_local):\n",
    "    path_to_db = path_to_db_local\n",
    "elif os.path.exists(path_to_db_platform):\n",
    "    path_to_db = path_to_db_platform\n",
    "else:\n",
    "    raise Exception('Файл с базой данных SQLite не найден!')\n",
    "\n",
    "if path_to_db:\n",
    "    engine = create_engine(f'sqlite:///{path_to_db}', echo=False)"
   ]
  },
  {
   "cell_type": "code",
   "execution_count": 70,
   "id": "84ebad43",
   "metadata": {},
   "outputs": [],
   "source": [
    "query = \"\"\"\n",
    "SELECT \n",
    "    user_id, lt_day, age, gender_segment, os_name, cpe_type_name, \n",
    "    location.country, location.city,\n",
    "    ags.title AS age_segment,\n",
    "    lts.title AS lifetime_segment,\n",
    "    ts.title AS traffic_segment,\n",
    "    nps_score,\n",
    "    CASE\n",
    "        WHEN nps_score >= 9 THEN \"promoters\"\n",
    "        WHEN nps_score >= 7 THEN \"passives\"\n",
    "        ELSE \"detractors\"\n",
    "    END AS nps_group,\n",
    "    CASE\n",
    "        WHEN lts.title < \"06 13-24\" THEN True\n",
    "        ELSE False\n",
    "    END AS is_new\n",
    "FROM user LEFT JOIN location ON user.location_id = location.location_id\n",
    "LEFT JOIN lifetime_segment AS lts ON user.lt_gr_id = lts.lt_gr_id\n",
    "LEFT JOIN traffic_segment AS ts ON user.tr_gr_id = ts.tr_gr_id\n",
    "LEFT JOIN age_segment AS ags ON user.age_gr_id = ags.age_gr_id\n",
    "\"\"\""
   ]
  },
  {
   "cell_type": "code",
   "execution_count": 71,
   "id": "3965faf2",
   "metadata": {
    "scrolled": true
   },
   "outputs": [
    {
     "data": {
      "text/html": [
       "<div>\n",
       "<style scoped>\n",
       "    .dataframe tbody tr th:only-of-type {\n",
       "        vertical-align: middle;\n",
       "    }\n",
       "\n",
       "    .dataframe tbody tr th {\n",
       "        vertical-align: top;\n",
       "    }\n",
       "\n",
       "    .dataframe thead th {\n",
       "        text-align: right;\n",
       "    }\n",
       "</style>\n",
       "<table border=\"1\" class=\"dataframe\">\n",
       "  <thead>\n",
       "    <tr style=\"text-align: right;\">\n",
       "      <th></th>\n",
       "      <th>user_id</th>\n",
       "      <th>lt_day</th>\n",
       "      <th>age</th>\n",
       "      <th>gender_segment</th>\n",
       "      <th>os_name</th>\n",
       "      <th>cpe_type_name</th>\n",
       "      <th>country</th>\n",
       "      <th>city</th>\n",
       "      <th>age_segment</th>\n",
       "      <th>lifetime_segment</th>\n",
       "      <th>traffic_segment</th>\n",
       "      <th>nps_score</th>\n",
       "      <th>nps_group</th>\n",
       "      <th>is_new</th>\n",
       "    </tr>\n",
       "  </thead>\n",
       "  <tbody>\n",
       "    <tr>\n",
       "      <th>0</th>\n",
       "      <td>A001A2</td>\n",
       "      <td>2320</td>\n",
       "      <td>45.0</td>\n",
       "      <td>1.0</td>\n",
       "      <td>ANDROID</td>\n",
       "      <td>SMARTPHONE</td>\n",
       "      <td>Россия</td>\n",
       "      <td>Уфа</td>\n",
       "      <td>05 45-54</td>\n",
       "      <td>08 36+</td>\n",
       "      <td>04 1-5</td>\n",
       "      <td>10</td>\n",
       "      <td>promoters</td>\n",
       "      <td>0</td>\n",
       "    </tr>\n",
       "    <tr>\n",
       "      <th>1</th>\n",
       "      <td>A001WF</td>\n",
       "      <td>2344</td>\n",
       "      <td>53.0</td>\n",
       "      <td>0.0</td>\n",
       "      <td>ANDROID</td>\n",
       "      <td>SMARTPHONE</td>\n",
       "      <td>Россия</td>\n",
       "      <td>Киров</td>\n",
       "      <td>05 45-54</td>\n",
       "      <td>08 36+</td>\n",
       "      <td>04 1-5</td>\n",
       "      <td>10</td>\n",
       "      <td>promoters</td>\n",
       "      <td>0</td>\n",
       "    </tr>\n",
       "    <tr>\n",
       "      <th>2</th>\n",
       "      <td>A003Q7</td>\n",
       "      <td>467</td>\n",
       "      <td>57.0</td>\n",
       "      <td>0.0</td>\n",
       "      <td>ANDROID</td>\n",
       "      <td>SMARTPHONE</td>\n",
       "      <td>Россия</td>\n",
       "      <td>Москва</td>\n",
       "      <td>06 55-64</td>\n",
       "      <td>06 13-24</td>\n",
       "      <td>08 20-25</td>\n",
       "      <td>10</td>\n",
       "      <td>promoters</td>\n",
       "      <td>0</td>\n",
       "    </tr>\n",
       "  </tbody>\n",
       "</table>\n",
       "</div>"
      ],
      "text/plain": [
       "  user_id  lt_day   age  gender_segment  os_name cpe_type_name country  \\\n",
       "0  A001A2    2320  45.0             1.0  ANDROID    SMARTPHONE  Россия   \n",
       "1  A001WF    2344  53.0             0.0  ANDROID    SMARTPHONE  Россия   \n",
       "2  A003Q7     467  57.0             0.0  ANDROID    SMARTPHONE  Россия   \n",
       "\n",
       "     city age_segment lifetime_segment traffic_segment  nps_score  nps_group  \\\n",
       "0     Уфа    05 45-54           08 36+          04 1-5         10  promoters   \n",
       "1   Киров    05 45-54           08 36+          04 1-5         10  promoters   \n",
       "2  Москва    06 55-64         06 13-24        08 20-25         10  promoters   \n",
       "\n",
       "   is_new  \n",
       "0       0  \n",
       "1       0  \n",
       "2       0  "
      ]
     },
     "execution_count": 71,
     "metadata": {},
     "output_type": "execute_result"
    }
   ],
   "source": [
    "df = pd.read_sql(query, engine)\n",
    "df.head(3)"
   ]
  },
  {
   "cell_type": "markdown",
   "id": "51b04053",
   "metadata": {},
   "source": [
    "Сохарняем результаты, выгружаем их и загружаем в Tableau."
   ]
  },
  {
   "cell_type": "code",
   "execution_count": 91,
   "id": "9db04858",
   "metadata": {},
   "outputs": [],
   "source": [
    "df.to_csv('telecomm_csi_tableau.csv', index=False)"
   ]
  },
  {
   "cell_type": "markdown",
   "id": "e4314adb",
   "metadata": {},
   "source": [
    "[Ссылка на проект](https://public.tableau.com/views/SP_1_17155236052790/sheet14?:language=en-US&publish=yes&:sid=&:display_count=n&:origin=viz_share_link)"
   ]
  }
 ],
 "metadata": {
  "ExecuteTimeLog": [
   {
    "duration": 497,
    "start_time": "2024-05-06T06:41:19.382Z"
   },
   {
    "duration": 76,
    "start_time": "2024-05-06T06:41:23.605Z"
   },
   {
    "duration": 2,
    "start_time": "2024-05-06T06:41:26.190Z"
   },
   {
    "duration": 753,
    "start_time": "2024-05-06T06:41:28.192Z"
   },
   {
    "duration": 3,
    "start_time": "2024-05-06T06:42:01.094Z"
   },
   {
    "duration": 643,
    "start_time": "2024-05-06T06:42:02.618Z"
   },
   {
    "duration": 3,
    "start_time": "2024-05-06T06:42:11.368Z"
   },
   {
    "duration": 4819,
    "start_time": "2024-05-06T06:42:14.242Z"
   },
   {
    "duration": 2,
    "start_time": "2024-05-06T06:43:02.338Z"
   },
   {
    "duration": 669,
    "start_time": "2024-05-06T06:43:04.113Z"
   },
   {
    "duration": 3,
    "start_time": "2024-05-06T06:43:37.673Z"
   },
   {
    "duration": 5342,
    "start_time": "2024-05-06T06:43:39.157Z"
   },
   {
    "duration": 3,
    "start_time": "2024-05-06T06:45:55.727Z"
   },
   {
    "duration": 3745,
    "start_time": "2024-05-06T06:45:57.972Z"
   },
   {
    "duration": 2,
    "start_time": "2024-05-06T06:47:38.876Z"
   },
   {
    "duration": 654,
    "start_time": "2024-05-06T06:47:40.597Z"
   },
   {
    "duration": 3,
    "start_time": "2024-05-06T06:47:51.445Z"
   },
   {
    "duration": 639,
    "start_time": "2024-05-06T06:47:54.125Z"
   },
   {
    "duration": 3,
    "start_time": "2024-05-06T06:48:18.757Z"
   },
   {
    "duration": 4150,
    "start_time": "2024-05-06T06:48:20.483Z"
   },
   {
    "duration": 3,
    "start_time": "2024-05-06T06:50:07.952Z"
   },
   {
    "duration": 4417,
    "start_time": "2024-05-06T06:50:09.898Z"
   },
   {
    "duration": 3,
    "start_time": "2024-05-06T06:51:08.434Z"
   },
   {
    "duration": 4418,
    "start_time": "2024-05-06T06:51:10.232Z"
   },
   {
    "duration": 3,
    "start_time": "2024-05-06T06:55:00.266Z"
   },
   {
    "duration": 3752,
    "start_time": "2024-05-06T06:55:32.660Z"
   },
   {
    "duration": 5106,
    "start_time": "2024-05-06T07:00:20.257Z"
   },
   {
    "duration": 10,
    "start_time": "2024-05-06T07:00:35.244Z"
   },
   {
    "duration": 8,
    "start_time": "2024-05-06T07:02:14.816Z"
   },
   {
    "duration": 4,
    "start_time": "2024-05-06T08:58:17.342Z"
   },
   {
    "duration": 3935,
    "start_time": "2024-05-06T08:58:51.369Z"
   },
   {
    "duration": 108,
    "start_time": "2024-05-06T08:59:47.796Z"
   },
   {
    "duration": 95,
    "start_time": "2024-05-06T09:00:13.282Z"
   },
   {
    "duration": 891,
    "start_time": "2024-05-06T09:00:54.348Z"
   },
   {
    "duration": 97,
    "start_time": "2024-05-06T09:02:02.911Z"
   },
   {
    "duration": 311,
    "start_time": "2024-05-06T09:02:30.995Z"
   },
   {
    "duration": 83,
    "start_time": "2024-05-06T09:16:27.659Z"
   },
   {
    "duration": 324,
    "start_time": "2024-05-06T09:16:32.234Z"
   },
   {
    "duration": 303,
    "start_time": "2024-05-06T09:16:41.792Z"
   },
   {
    "duration": 94,
    "start_time": "2024-05-06T09:17:11.049Z"
   },
   {
    "duration": 3934,
    "start_time": "2024-05-06T09:17:41.217Z"
   },
   {
    "duration": 3738,
    "start_time": "2024-05-06T09:17:58.560Z"
   },
   {
    "duration": 3,
    "start_time": "2024-05-06T09:18:14.781Z"
   },
   {
    "duration": 84,
    "start_time": "2024-05-06T09:18:14.786Z"
   },
   {
    "duration": 3,
    "start_time": "2024-05-06T09:18:14.872Z"
   },
   {
    "duration": 4831,
    "start_time": "2024-05-06T09:18:14.877Z"
   },
   {
    "duration": 117,
    "start_time": "2024-05-06T09:18:19.710Z"
   },
   {
    "duration": 3989,
    "start_time": "2024-05-06T09:18:19.829Z"
   },
   {
    "duration": 4798,
    "start_time": "2024-05-06T09:18:23.820Z"
   },
   {
    "duration": 4,
    "start_time": "2024-05-06T09:18:28.620Z"
   },
   {
    "duration": 4142,
    "start_time": "2024-05-06T09:18:28.627Z"
   },
   {
    "duration": 4047,
    "start_time": "2024-05-06T09:19:06.409Z"
   },
   {
    "duration": 3,
    "start_time": "2024-05-06T09:19:23.073Z"
   },
   {
    "duration": 166,
    "start_time": "2024-05-06T09:19:23.078Z"
   },
   {
    "duration": 3,
    "start_time": "2024-05-06T09:19:23.246Z"
   },
   {
    "duration": 4492,
    "start_time": "2024-05-06T09:19:23.250Z"
   },
   {
    "duration": 104,
    "start_time": "2024-05-06T09:19:27.745Z"
   },
   {
    "duration": 3814,
    "start_time": "2024-05-06T09:19:27.851Z"
   },
   {
    "duration": 4558,
    "start_time": "2024-05-06T09:19:31.669Z"
   },
   {
    "duration": 3,
    "start_time": "2024-05-06T09:19:36.228Z"
   },
   {
    "duration": 4013,
    "start_time": "2024-05-06T09:19:36.234Z"
   },
   {
    "duration": 3,
    "start_time": "2024-05-06T09:19:40.782Z"
   },
   {
    "duration": 74,
    "start_time": "2024-05-06T09:19:40.788Z"
   },
   {
    "duration": 4,
    "start_time": "2024-05-06T09:19:40.863Z"
   },
   {
    "duration": 4538,
    "start_time": "2024-05-06T09:19:40.868Z"
   },
   {
    "duration": 119,
    "start_time": "2024-05-06T09:19:45.409Z"
   },
   {
    "duration": 3668,
    "start_time": "2024-05-06T09:19:45.530Z"
   },
   {
    "duration": 4296,
    "start_time": "2024-05-06T09:19:49.199Z"
   },
   {
    "duration": 4,
    "start_time": "2024-05-06T09:19:53.496Z"
   },
   {
    "duration": 3948,
    "start_time": "2024-05-06T09:19:53.501Z"
   },
   {
    "duration": 434,
    "start_time": "2024-05-06T09:20:49.697Z"
   },
   {
    "duration": 253,
    "start_time": "2024-05-06T09:20:58.118Z"
   },
   {
    "duration": 957,
    "start_time": "2024-05-06T09:21:45.938Z"
   },
   {
    "duration": 3,
    "start_time": "2024-05-06T09:21:56.358Z"
   },
   {
    "duration": 78,
    "start_time": "2024-05-06T09:21:56.362Z"
   },
   {
    "duration": 3,
    "start_time": "2024-05-06T09:21:56.442Z"
   },
   {
    "duration": 4610,
    "start_time": "2024-05-06T09:21:56.446Z"
   },
   {
    "duration": 118,
    "start_time": "2024-05-06T09:22:01.058Z"
   },
   {
    "duration": 3717,
    "start_time": "2024-05-06T09:22:01.178Z"
   },
   {
    "duration": 12,
    "start_time": "2024-05-06T09:22:04.897Z"
   },
   {
    "duration": 0,
    "start_time": "2024-05-06T09:22:04.910Z"
   },
   {
    "duration": 0,
    "start_time": "2024-05-06T09:22:04.911Z"
   },
   {
    "duration": 1,
    "start_time": "2024-05-06T09:22:04.912Z"
   },
   {
    "duration": 15,
    "start_time": "2024-05-06T09:22:45.665Z"
   },
   {
    "duration": 40,
    "start_time": "2024-05-06T09:23:05.658Z"
   },
   {
    "duration": 75,
    "start_time": "2024-05-06T09:23:13.217Z"
   },
   {
    "duration": 568,
    "start_time": "2024-05-07T05:24:46.579Z"
   },
   {
    "duration": 85,
    "start_time": "2024-05-07T05:24:48.718Z"
   },
   {
    "duration": 4,
    "start_time": "2024-05-07T05:24:50.787Z"
   },
   {
    "duration": 5059,
    "start_time": "2024-05-07T05:24:53.316Z"
   },
   {
    "duration": 348,
    "start_time": "2024-05-07T05:25:35.044Z"
   },
   {
    "duration": 1033,
    "start_time": "2024-05-07T05:26:25.027Z"
   },
   {
    "duration": 1037,
    "start_time": "2024-05-07T05:26:32.868Z"
   },
   {
    "duration": 49,
    "start_time": "2024-05-07T05:27:40.650Z"
   },
   {
    "duration": 82,
    "start_time": "2024-05-07T05:27:46.555Z"
   },
   {
    "duration": 73,
    "start_time": "2024-05-07T05:28:01.514Z"
   },
   {
    "duration": 102,
    "start_time": "2024-05-07T05:28:05.980Z"
   },
   {
    "duration": 2,
    "start_time": "2024-05-07T05:28:59.057Z"
   },
   {
    "duration": 3714,
    "start_time": "2024-05-07T05:29:03.074Z"
   },
   {
    "duration": 49,
    "start_time": "2024-05-07T05:30:38.835Z"
   },
   {
    "duration": 36,
    "start_time": "2024-05-07T05:30:51.993Z"
   },
   {
    "duration": 38,
    "start_time": "2024-05-07T05:30:55.190Z"
   },
   {
    "duration": 37,
    "start_time": "2024-05-07T05:31:01.315Z"
   },
   {
    "duration": 4,
    "start_time": "2024-05-07T05:31:44.337Z"
   },
   {
    "duration": 37,
    "start_time": "2024-05-07T05:31:50.037Z"
   },
   {
    "duration": 151,
    "start_time": "2024-05-07T05:32:21.311Z"
   },
   {
    "duration": 107,
    "start_time": "2024-05-07T05:33:19.346Z"
   },
   {
    "duration": 2,
    "start_time": "2024-05-07T05:35:57.521Z"
   },
   {
    "duration": 572,
    "start_time": "2024-05-07T05:36:16.440Z"
   },
   {
    "duration": 3,
    "start_time": "2024-05-07T05:40:15.450Z"
   },
   {
    "duration": 8,
    "start_time": "2024-05-07T05:40:51.905Z"
   },
   {
    "duration": 3,
    "start_time": "2024-05-07T05:40:58.585Z"
   },
   {
    "duration": 3754,
    "start_time": "2024-05-07T05:40:59.950Z"
   },
   {
    "duration": 3756,
    "start_time": "2024-05-07T05:41:27.519Z"
   },
   {
    "duration": 3889,
    "start_time": "2024-05-07T05:41:43.170Z"
   },
   {
    "duration": 3,
    "start_time": "2024-05-07T05:42:33.396Z"
   },
   {
    "duration": 333,
    "start_time": "2024-05-07T05:43:09.119Z"
   },
   {
    "duration": 4041,
    "start_time": "2024-05-07T05:43:26.971Z"
   },
   {
    "duration": 103,
    "start_time": "2024-05-07T05:44:57.649Z"
   },
   {
    "duration": 3,
    "start_time": "2024-05-07T05:45:56.627Z"
   },
   {
    "duration": 3833,
    "start_time": "2024-05-07T05:46:09.335Z"
   },
   {
    "duration": 3,
    "start_time": "2024-05-07T05:46:42.107Z"
   },
   {
    "duration": 4214,
    "start_time": "2024-05-07T05:46:44.459Z"
   },
   {
    "duration": 4743,
    "start_time": "2024-05-07T05:47:20.971Z"
   },
   {
    "duration": 3,
    "start_time": "2024-05-07T06:01:02.967Z"
   },
   {
    "duration": 4428,
    "start_time": "2024-05-07T06:01:04.386Z"
   },
   {
    "duration": 4462,
    "start_time": "2024-05-07T06:01:12.644Z"
   },
   {
    "duration": 571,
    "start_time": "2024-05-12T10:33:03.868Z"
   },
   {
    "duration": 4,
    "start_time": "2024-05-12T10:33:14.082Z"
   },
   {
    "duration": 93,
    "start_time": "2024-05-12T10:33:14.088Z"
   },
   {
    "duration": 3,
    "start_time": "2024-05-12T10:33:14.184Z"
   },
   {
    "duration": 4872,
    "start_time": "2024-05-12T10:33:14.189Z"
   },
   {
    "duration": 343,
    "start_time": "2024-05-12T10:33:19.063Z"
   },
   {
    "duration": 1049,
    "start_time": "2024-05-12T10:33:19.408Z"
   },
   {
    "duration": 114,
    "start_time": "2024-05-12T10:33:20.459Z"
   },
   {
    "duration": 5,
    "start_time": "2024-05-12T10:33:20.575Z"
   },
   {
    "duration": 3746,
    "start_time": "2024-05-12T10:33:20.582Z"
   },
   {
    "duration": 33,
    "start_time": "2024-05-12T10:33:24.330Z"
   },
   {
    "duration": 170,
    "start_time": "2024-05-12T10:33:24.364Z"
   },
   {
    "duration": 118,
    "start_time": "2024-05-12T10:33:24.536Z"
   },
   {
    "duration": 24,
    "start_time": "2024-05-12T10:33:24.656Z"
   },
   {
    "duration": 575,
    "start_time": "2024-05-12T10:33:24.683Z"
   },
   {
    "duration": 3,
    "start_time": "2024-05-12T10:33:25.259Z"
   },
   {
    "duration": 3548,
    "start_time": "2024-05-12T10:33:25.263Z"
   },
   {
    "duration": 2,
    "start_time": "2024-05-12T10:33:28.813Z"
   },
   {
    "duration": 3851,
    "start_time": "2024-05-12T10:33:28.816Z"
   },
   {
    "duration": 110,
    "start_time": "2024-05-12T10:33:32.670Z"
   },
   {
    "duration": 27,
    "start_time": "2024-05-12T10:33:32.783Z"
   },
   {
    "duration": 3795,
    "start_time": "2024-05-12T10:33:32.811Z"
   },
   {
    "duration": 2,
    "start_time": "2024-05-12T10:33:36.608Z"
   },
   {
    "duration": 4184,
    "start_time": "2024-05-12T10:33:36.612Z"
   },
   {
    "duration": 4753,
    "start_time": "2024-05-12T10:33:40.797Z"
   },
   {
    "duration": 86,
    "start_time": "2024-05-12T14:21:07.744Z"
   },
   {
    "duration": 74,
    "start_time": "2024-05-12T14:21:38.546Z"
   },
   {
    "duration": 498,
    "start_time": "2024-05-13T09:33:15.561Z"
   },
   {
    "duration": 59,
    "start_time": "2024-05-13T09:33:18.553Z"
   },
   {
    "duration": 3,
    "start_time": "2024-05-13T09:33:20.605Z"
   },
   {
    "duration": 538,
    "start_time": "2024-05-13T09:33:23.774Z"
   },
   {
    "duration": 3,
    "start_time": "2024-05-13T09:35:33.171Z"
   },
   {
    "duration": 339,
    "start_time": "2024-05-13T09:35:35.228Z"
   },
   {
    "duration": 3,
    "start_time": "2024-05-13T09:35:47.849Z"
   },
   {
    "duration": 4843,
    "start_time": "2024-05-13T09:35:49.552Z"
   },
   {
    "duration": 3,
    "start_time": "2024-05-13T09:37:35.938Z"
   },
   {
    "duration": 552,
    "start_time": "2024-05-13T09:37:37.936Z"
   },
   {
    "duration": 2,
    "start_time": "2024-05-13T09:37:56.209Z"
   },
   {
    "duration": 4659,
    "start_time": "2024-05-13T09:37:58.320Z"
   },
   {
    "duration": 373,
    "start_time": "2024-05-13T09:38:09.980Z"
   },
   {
    "duration": 1201,
    "start_time": "2024-05-13T09:38:13.677Z"
   },
   {
    "duration": 107,
    "start_time": "2024-05-13T09:38:17.124Z"
   },
   {
    "duration": 3,
    "start_time": "2024-05-13T09:38:19.614Z"
   },
   {
    "duration": 3436,
    "start_time": "2024-05-13T09:38:21.583Z"
   },
   {
    "duration": 32,
    "start_time": "2024-05-13T09:38:27.362Z"
   },
   {
    "duration": 171,
    "start_time": "2024-05-13T09:38:29.384Z"
   },
   {
    "duration": 154,
    "start_time": "2024-05-13T09:38:31.448Z"
   },
   {
    "duration": 3,
    "start_time": "2024-05-13T09:38:37.545Z"
   },
   {
    "duration": 508,
    "start_time": "2024-05-13T09:38:39.392Z"
   },
   {
    "duration": 3,
    "start_time": "2024-05-13T09:38:44.239Z"
   },
   {
    "duration": 3382,
    "start_time": "2024-05-13T09:38:46.778Z"
   },
   {
    "duration": 2,
    "start_time": "2024-05-13T09:39:10.756Z"
   },
   {
    "duration": 3,
    "start_time": "2024-05-13T09:39:15.903Z"
   },
   {
    "duration": 48,
    "start_time": "2024-05-13T09:39:15.907Z"
   },
   {
    "duration": 3,
    "start_time": "2024-05-13T09:39:15.956Z"
   },
   {
    "duration": 4954,
    "start_time": "2024-05-13T09:39:15.960Z"
   },
   {
    "duration": 456,
    "start_time": "2024-05-13T09:39:20.917Z"
   },
   {
    "duration": 1264,
    "start_time": "2024-05-13T09:39:21.375Z"
   },
   {
    "duration": 127,
    "start_time": "2024-05-13T09:39:22.644Z"
   },
   {
    "duration": 7,
    "start_time": "2024-05-13T09:39:22.772Z"
   },
   {
    "duration": 3388,
    "start_time": "2024-05-13T09:39:22.780Z"
   },
   {
    "duration": 32,
    "start_time": "2024-05-13T09:39:26.170Z"
   },
   {
    "duration": 188,
    "start_time": "2024-05-13T09:39:26.204Z"
   },
   {
    "duration": 124,
    "start_time": "2024-05-13T09:39:26.394Z"
   },
   {
    "duration": 15,
    "start_time": "2024-05-13T09:39:26.520Z"
   },
   {
    "duration": 517,
    "start_time": "2024-05-13T09:39:26.537Z"
   },
   {
    "duration": 3,
    "start_time": "2024-05-13T09:39:27.055Z"
   },
   {
    "duration": 2,
    "start_time": "2024-05-13T09:39:34.549Z"
   },
   {
    "duration": 3549,
    "start_time": "2024-05-13T09:39:35.933Z"
   },
   {
    "duration": 116,
    "start_time": "2024-05-13T09:39:41.374Z"
   },
   {
    "duration": 2,
    "start_time": "2024-05-13T09:39:44.029Z"
   },
   {
    "duration": 3380,
    "start_time": "2024-05-13T09:39:45.602Z"
   },
   {
    "duration": 2,
    "start_time": "2024-05-13T09:39:55.551Z"
   },
   {
    "duration": 3,
    "start_time": "2024-05-13T09:39:56.859Z"
   },
   {
    "duration": 4392,
    "start_time": "2024-05-13T09:40:02.515Z"
   },
   {
    "duration": 2,
    "start_time": "2024-05-13T09:40:50.582Z"
   },
   {
    "duration": 903,
    "start_time": "2024-05-13T09:40:52.496Z"
   },
   {
    "duration": 2,
    "start_time": "2024-05-13T09:41:05.101Z"
   },
   {
    "duration": 3,
    "start_time": "2024-05-13T09:41:09.118Z"
   },
   {
    "duration": 4947,
    "start_time": "2024-05-13T09:41:11.186Z"
   },
   {
    "duration": 2,
    "start_time": "2024-05-13T09:42:21.564Z"
   },
   {
    "duration": 2,
    "start_time": "2024-05-13T09:42:26.959Z"
   },
   {
    "duration": 3,
    "start_time": "2024-05-13T09:42:31.522Z"
   },
   {
    "duration": 2,
    "start_time": "2024-05-13T09:42:34.933Z"
   },
   {
    "duration": 3,
    "start_time": "2024-05-13T09:42:41.192Z"
   },
   {
    "duration": 2,
    "start_time": "2024-05-13T09:43:31.171Z"
   },
   {
    "duration": 3,
    "start_time": "2024-05-13T09:43:45.286Z"
   },
   {
    "duration": 54,
    "start_time": "2024-05-13T09:43:45.291Z"
   },
   {
    "duration": 2,
    "start_time": "2024-05-13T09:43:45.347Z"
   },
   {
    "duration": 4544,
    "start_time": "2024-05-13T09:43:45.350Z"
   },
   {
    "duration": 369,
    "start_time": "2024-05-13T09:43:49.896Z"
   },
   {
    "duration": 1114,
    "start_time": "2024-05-13T09:43:50.266Z"
   },
   {
    "duration": 2,
    "start_time": "2024-05-13T09:43:51.382Z"
   },
   {
    "duration": 49,
    "start_time": "2024-05-13T09:43:51.386Z"
   },
   {
    "duration": 0,
    "start_time": "2024-05-13T09:43:51.437Z"
   },
   {
    "duration": 0,
    "start_time": "2024-05-13T09:43:51.439Z"
   },
   {
    "duration": 0,
    "start_time": "2024-05-13T09:43:51.440Z"
   },
   {
    "duration": 0,
    "start_time": "2024-05-13T09:43:51.442Z"
   },
   {
    "duration": 0,
    "start_time": "2024-05-13T09:43:51.443Z"
   },
   {
    "duration": 0,
    "start_time": "2024-05-13T09:43:51.444Z"
   },
   {
    "duration": 0,
    "start_time": "2024-05-13T09:43:51.446Z"
   },
   {
    "duration": 0,
    "start_time": "2024-05-13T09:43:51.447Z"
   },
   {
    "duration": 0,
    "start_time": "2024-05-13T09:43:51.449Z"
   },
   {
    "duration": 0,
    "start_time": "2024-05-13T09:43:51.450Z"
   },
   {
    "duration": 0,
    "start_time": "2024-05-13T09:43:51.451Z"
   },
   {
    "duration": 0,
    "start_time": "2024-05-13T09:43:51.452Z"
   },
   {
    "duration": 0,
    "start_time": "2024-05-13T09:43:51.454Z"
   },
   {
    "duration": 0,
    "start_time": "2024-05-13T09:43:51.455Z"
   },
   {
    "duration": 0,
    "start_time": "2024-05-13T09:43:51.456Z"
   },
   {
    "duration": 0,
    "start_time": "2024-05-13T09:43:51.458Z"
   },
   {
    "duration": 3,
    "start_time": "2024-05-13T09:44:48.375Z"
   },
   {
    "duration": 63,
    "start_time": "2024-05-13T09:44:48.379Z"
   },
   {
    "duration": 3,
    "start_time": "2024-05-13T09:44:48.443Z"
   },
   {
    "duration": 4548,
    "start_time": "2024-05-13T09:44:48.448Z"
   },
   {
    "duration": 365,
    "start_time": "2024-05-13T09:44:52.998Z"
   },
   {
    "duration": 1118,
    "start_time": "2024-05-13T09:44:53.364Z"
   },
   {
    "duration": 2,
    "start_time": "2024-05-13T09:44:54.484Z"
   },
   {
    "duration": 17,
    "start_time": "2024-05-13T09:44:54.487Z"
   },
   {
    "duration": 27,
    "start_time": "2024-05-13T09:44:54.506Z"
   },
   {
    "duration": 65,
    "start_time": "2024-05-13T09:44:54.534Z"
   },
   {
    "duration": 167,
    "start_time": "2024-05-13T09:44:54.600Z"
   },
   {
    "duration": 2,
    "start_time": "2024-05-13T09:44:54.769Z"
   },
   {
    "duration": 22,
    "start_time": "2024-05-13T09:44:54.773Z"
   },
   {
    "duration": 19,
    "start_time": "2024-05-13T09:44:54.797Z"
   },
   {
    "duration": 8,
    "start_time": "2024-05-13T09:44:54.817Z"
   },
   {
    "duration": 26,
    "start_time": "2024-05-13T09:44:54.827Z"
   },
   {
    "duration": 32,
    "start_time": "2024-05-13T09:44:54.855Z"
   },
   {
    "duration": 24,
    "start_time": "2024-05-13T09:44:54.888Z"
   },
   {
    "duration": 30,
    "start_time": "2024-05-13T09:44:54.913Z"
   },
   {
    "duration": 18,
    "start_time": "2024-05-13T09:44:54.945Z"
   },
   {
    "duration": 15,
    "start_time": "2024-05-13T09:44:54.965Z"
   },
   {
    "duration": 10,
    "start_time": "2024-05-13T09:44:54.982Z"
   },
   {
    "duration": 50,
    "start_time": "2024-05-13T09:44:54.993Z"
   },
   {
    "duration": 4044,
    "start_time": "2024-05-13T09:44:55.044Z"
   }
  ],
  "kernelspec": {
   "display_name": "Python 3 (ipykernel)",
   "language": "python",
   "name": "python3"
  },
  "language_info": {
   "codemirror_mode": {
    "name": "ipython",
    "version": 3
   },
   "file_extension": ".py",
   "mimetype": "text/x-python",
   "name": "python",
   "nbconvert_exporter": "python",
   "pygments_lexer": "ipython3",
   "version": "3.12.3"
  },
  "toc": {
   "base_numbering": 1,
   "nav_menu": {},
   "number_sections": true,
   "sideBar": true,
   "skip_h1_title": true,
   "title_cell": "Table of Contents",
   "title_sidebar": "Contents",
   "toc_cell": false,
   "toc_position": {},
   "toc_section_display": true,
   "toc_window_display": false
  }
 },
 "nbformat": 4,
 "nbformat_minor": 5
}
